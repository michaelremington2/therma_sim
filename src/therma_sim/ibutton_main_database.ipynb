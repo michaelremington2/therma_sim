{
 "cells": [
  {
   "cell_type": "code",
   "execution_count": 2,
   "metadata": {},
   "outputs": [],
   "source": [
    "import pandas as pd\n",
    "import numpy as np\n",
    "import matplotlib.pyplot as plt\n",
    "import seaborn as sns\n",
    "from datetime import datetime as dt\n",
    "import glob\n",
    "import os\n",
    "import warnings\n",
    "warnings.filterwarnings('ignore')"
   ]
  },
  {
   "cell_type": "code",
   "execution_count": 2,
   "metadata": {},
   "outputs": [
    {
     "name": "stderr",
     "output_type": "stream",
     "text": [
      "<ipython-input-2-a4d178746439>:5: UserWarning: Could not infer format, so each element will be parsed individually, falling back to `dateutil`. To ensure parsing is consistent and as-expected, please specify a format.\n",
      "  otm_canada['Date'] = pd.to_datetime(otm_canada['Date'])\n"
     ]
    }
   ],
   "source": [
    "#/home/mremington/Documents/therma_sim/ibutton_data_analysis/\n",
    "otm_canada_fp = 'data/OTM_Data/Canada/OTM_Data_Canada_2022/Air_Temp_CAN_2022.csv'\n",
    "col_names = ['Date', 'Unit', 'Temperature']\n",
    "otm_canada = pd.read_csv(otm_canada_fp,names = col_names, skiprows=20, header=None)\n",
    "otm_canada['Date'] = pd.to_datetime(otm_canada['Date']) \n",
    "otm_canada['year'] = otm_canada['Date'].dt.year\n",
    "otm_canada['month'] = otm_canada['Date'].dt.month\n",
    "otm_canada['day'] = otm_canada['Date'].dt.day\n",
    "otm_canada['hour'] = otm_canada['Date'].dt.hour\n",
    "otm_canada['minute'] = otm_canada['Date'].dt.minute\n",
    "\n",
    "#otm_canada.head()"
   ]
  },
  {
   "cell_type": "code",
   "execution_count": 3,
   "metadata": {},
   "outputs": [
    {
     "data": {
      "text/plain": [
       "[Text(0, 0.5, 'Air Temp (C)')]"
      ]
     },
     "execution_count": 3,
     "metadata": {},
     "output_type": "execute_result"
    },
    {
     "data": {
      "image/png": "[encoded data removed]",
      "text/plain": [
       "<Figure size 432x288 with 1 Axes>"
      ]
     },
     "metadata": {
      "needs_background": "light"
     },
     "output_type": "display_data"
    }
   ],
   "source": [
    "sns.lineplot(data=otm_canada, x = \"Date\",y = \"Temperature\").set(ylabel = \"Air Temp (C)\")"
   ]
  },
  {
   "cell_type": "code",
   "execution_count": 10,
   "metadata": {},
   "outputs": [],
   "source": [
    "def get_study_site(fp):\n",
    "    study_site = fp.split('/')[0]\n",
    "    return study_site\n",
    "\n",
    "def get_otm(fp):\n",
    "    csv_name = fp.split('/')[-1]\n",
    "    otm_name = csv_name.split('_')[0]\n",
    "    if otm_name == 'AirtempNE22':\n",
    "        otm_name = 'Air Temperature'\n",
    "    elif otm_name == 'Air':\n",
    "        otm_name = 'Air Temperature'\n",
    "    elif otm_name == 'OTM':\n",
    "        otm_name = otm_name + csv_name.split('_')[1]\n",
    "    return otm_name\n",
    "\n",
    "def get_csv_file_name(fp):\n",
    "    return fp.split('/')[-1]\n",
    "    \n",
    "#print(get_study_site(fp = otm_canada_fp))"
   ]
  },
  {
   "cell_type": "code",
   "execution_count": 7,
   "metadata": {},
   "outputs": [],
   "source": [
    "base_folder = '/home/mremington/Documents/therma_sim/therma_sim/Data/Thermal_Ecology_Viridis/OTM_Data/'\n",
    "data_folders = ['Canada/OTM_Data_Canada_2022/',\n",
    "                'Canada/OTM_Data_Canada_2023/',\n",
    "                'Texas/Marathon/OTM_DATA_MG_2021/',\n",
    "                'Texas/Marathon/OTM_Offload_day_07302021/',\n",
    "                'Texas/Marathon/OTM_Data_Texas_23_24/',\n",
    "                'Nebraska/OTM_Data_Nebraska_22_23/',\n",
    "                'Nebraska/OTM_Data_Nebraska_23_24/'\n",
    "               ]"
   ]
  },
  {
   "cell_type": "code",
   "execution_count": 11,
   "metadata": {},
   "outputs": [],
   "source": [
    "otm_main = pd.DataFrame()\n",
    "for folder in data_folders:\n",
    "    csv_files = glob.glob(base_folder + folder + \"*.csv\")\n",
    "    for csv_file in csv_files:\n",
    "        col_names = ['Date', 'Unit', 'Temperature']\n",
    "        temp_df = pd.read_csv(csv_file,names = col_names, skiprows=20, header=None)\n",
    "        temp_df['Date'] = pd.to_datetime(temp_df['Date']) \n",
    "        temp_df['year'] = temp_df['Date'].dt.year\n",
    "        temp_df['month'] = temp_df['Date'].dt.month\n",
    "        temp_df['day'] = temp_df['Date'].dt.day\n",
    "        temp_df['hour'] = temp_df['Date'].dt.hour\n",
    "        temp_df['minute'] = temp_df['Date'].dt.minute\n",
    "        temp_df['Study_Site'] = [get_study_site(folder) for i in range(len(temp_df))]\n",
    "        temp_df['OTM_ID'] = [get_otm(csv_file) for i in range(len(temp_df))]\n",
    "        temp_df['file_name'] = [get_csv_file_name(csv_file) for i in range(len(temp_df))]\n",
    "        otm_main = pd.concat([otm_main, temp_df], ignore_index=True)"
   ]
  },
  {
   "cell_type": "code",
   "execution_count": 12,
   "metadata": {},
   "outputs": [
    {
     "data": {
      "text/html": [
       "<div>\n",
       "<style scoped>\n",
       "    .dataframe tbody tr th:only-of-type {\n",
       "        vertical-align: middle;\n",
       "    }\n",
       "\n",
       "    .dataframe tbody tr th {\n",
       "        vertical-align: top;\n",
       "    }\n",
       "\n",
       "    .dataframe thead th {\n",
       "        text-align: right;\n",
       "    }\n",
       "</style>\n",
       "<table border=\"1\" class=\"dataframe\">\n",
       "  <thead>\n",
       "    <tr style=\"text-align: right;\">\n",
       "      <th></th>\n",
       "      <th>Date</th>\n",
       "      <th>Unit</th>\n",
       "      <th>Temperature</th>\n",
       "      <th>year</th>\n",
       "      <th>month</th>\n",
       "      <th>day</th>\n",
       "      <th>hour</th>\n",
       "      <th>minute</th>\n",
       "      <th>Study_Site</th>\n",
       "      <th>OTM_ID</th>\n",
       "      <th>file_name</th>\n",
       "    </tr>\n",
       "  </thead>\n",
       "  <tbody>\n",
       "    <tr>\n",
       "      <th>0</th>\n",
       "      <td>2022-06-17 23:00:01</td>\n",
       "      <td>C</td>\n",
       "      <td>17.663</td>\n",
       "      <td>2022</td>\n",
       "      <td>6</td>\n",
       "      <td>17</td>\n",
       "      <td>23</td>\n",
       "      <td>0</td>\n",
       "      <td>Canada</td>\n",
       "      <td>OTM8</td>\n",
       "      <td>OTM8_burrow_CAN_2022.csv</td>\n",
       "    </tr>\n",
       "    <tr>\n",
       "      <th>1</th>\n",
       "      <td>2022-06-18 00:10:01</td>\n",
       "      <td>C</td>\n",
       "      <td>17.663</td>\n",
       "      <td>2022</td>\n",
       "      <td>6</td>\n",
       "      <td>18</td>\n",
       "      <td>0</td>\n",
       "      <td>10</td>\n",
       "      <td>Canada</td>\n",
       "      <td>OTM8</td>\n",
       "      <td>OTM8_burrow_CAN_2022.csv</td>\n",
       "    </tr>\n",
       "    <tr>\n",
       "      <th>2</th>\n",
       "      <td>2022-06-18 01:20:01</td>\n",
       "      <td>C</td>\n",
       "      <td>17.163</td>\n",
       "      <td>2022</td>\n",
       "      <td>6</td>\n",
       "      <td>18</td>\n",
       "      <td>1</td>\n",
       "      <td>20</td>\n",
       "      <td>Canada</td>\n",
       "      <td>OTM8</td>\n",
       "      <td>OTM8_burrow_CAN_2022.csv</td>\n",
       "    </tr>\n",
       "    <tr>\n",
       "      <th>3</th>\n",
       "      <td>2022-06-18 02:30:01</td>\n",
       "      <td>C</td>\n",
       "      <td>17.163</td>\n",
       "      <td>2022</td>\n",
       "      <td>6</td>\n",
       "      <td>18</td>\n",
       "      <td>2</td>\n",
       "      <td>30</td>\n",
       "      <td>Canada</td>\n",
       "      <td>OTM8</td>\n",
       "      <td>OTM8_burrow_CAN_2022.csv</td>\n",
       "    </tr>\n",
       "    <tr>\n",
       "      <th>4</th>\n",
       "      <td>2022-06-18 03:40:01</td>\n",
       "      <td>C</td>\n",
       "      <td>16.662</td>\n",
       "      <td>2022</td>\n",
       "      <td>6</td>\n",
       "      <td>18</td>\n",
       "      <td>3</td>\n",
       "      <td>40</td>\n",
       "      <td>Canada</td>\n",
       "      <td>OTM8</td>\n",
       "      <td>OTM8_burrow_CAN_2022.csv</td>\n",
       "    </tr>\n",
       "  </tbody>\n",
       "</table>\n",
       "</div>"
      ],
      "text/plain": [
       "                 Date Unit  Temperature  year  month  day  hour  minute  \\\n",
       "0 2022-06-17 23:00:01    C       17.663  2022      6   17    23       0   \n",
       "1 2022-06-18 00:10:01    C       17.663  2022      6   18     0      10   \n",
       "2 2022-06-18 01:20:01    C       17.163  2022      6   18     1      20   \n",
       "3 2022-06-18 02:30:01    C       17.163  2022      6   18     2      30   \n",
       "4 2022-06-18 03:40:01    C       16.662  2022      6   18     3      40   \n",
       "\n",
       "  Study_Site OTM_ID                 file_name  \n",
       "0     Canada   OTM8  OTM8_burrow_CAN_2022.csv  \n",
       "1     Canada   OTM8  OTM8_burrow_CAN_2022.csv  \n",
       "2     Canada   OTM8  OTM8_burrow_CAN_2022.csv  \n",
       "3     Canada   OTM8  OTM8_burrow_CAN_2022.csv  \n",
       "4     Canada   OTM8  OTM8_burrow_CAN_2022.csv  "
      ]
     },
     "execution_count": 12,
     "metadata": {},
     "output_type": "execute_result"
    }
   ],
   "source": [
    "otm_main.head()"
   ]
  },
  {
   "cell_type": "code",
   "execution_count": 10,
   "metadata": {},
   "outputs": [
    {
     "data": {
      "text/plain": [
       "387482"
      ]
     },
     "execution_count": 10,
     "metadata": {},
     "output_type": "execute_result"
    }
   ],
   "source": [
    "len(otm_main)"
   ]
  },
  {
   "cell_type": "code",
   "execution_count": 13,
   "metadata": {},
   "outputs": [
    {
     "name": "stdout",
     "output_type": "stream",
     "text": [
      "['Canada' 'Nebraska' 'Texas']\n"
     ]
    }
   ],
   "source": [
    "#print(np.unique(otm_main['otm_name']))\n",
    "print(np.unique(otm_main['Study_Site']))"
   ]
  },
  {
   "cell_type": "code",
   "execution_count": 21,
   "metadata": {},
   "outputs": [],
   "source": [
    "\n",
    "master_sheets = ['Canada/OTM_Master_CA_22.xlsx',\n",
    "                 'Nebraska/Master_OTM_List_Nebraska.xlsx',\n",
    "                 'Texas/Marathon/OTM_Master_TX.xlsx']"
   ]
  },
  {
   "cell_type": "code",
   "execution_count": 32,
   "metadata": {},
   "outputs": [],
   "source": [
    "# temp_md = pd.read_excel(master_sheets[3])\n",
    "# temp_md = temp_md[[\"OTM ID\", \"Lat \", \"Long\", \"Microhabitat\"]]\n",
    "# temp_md['Study_Site'] = [get_study_site(master_sheets[0]) for i in range(len(temp_md))]\n",
    "# temp_md.head()"
   ]
  },
  {
   "cell_type": "code",
   "execution_count": 22,
   "metadata": {},
   "outputs": [],
   "source": [
    "meta_data = pd.DataFrame()"
   ]
  },
  {
   "cell_type": "code",
   "execution_count": 23,
   "metadata": {},
   "outputs": [
    {
     "data": {
      "text/html": [
       "<div>\n",
       "<style scoped>\n",
       "    .dataframe tbody tr th:only-of-type {\n",
       "        vertical-align: middle;\n",
       "    }\n",
       "\n",
       "    .dataframe tbody tr th {\n",
       "        vertical-align: top;\n",
       "    }\n",
       "\n",
       "    .dataframe thead th {\n",
       "        text-align: right;\n",
       "    }\n",
       "</style>\n",
       "<table border=\"1\" class=\"dataframe\">\n",
       "  <thead>\n",
       "    <tr style=\"text-align: right;\">\n",
       "      <th></th>\n",
       "      <th>OTM_ID</th>\n",
       "      <th>Lat</th>\n",
       "      <th>Long</th>\n",
       "      <th>Microhabitat</th>\n",
       "      <th>Study_Site</th>\n",
       "    </tr>\n",
       "  </thead>\n",
       "  <tbody>\n",
       "    <tr>\n",
       "      <th>0</th>\n",
       "      <td>OTM1</td>\n",
       "      <td>50.849325</td>\n",
       "      <td>-110.051502</td>\n",
       "      <td>Open</td>\n",
       "      <td>Canada</td>\n",
       "    </tr>\n",
       "    <tr>\n",
       "      <th>1</th>\n",
       "      <td>OTM2</td>\n",
       "      <td>50.849341</td>\n",
       "      <td>-110.051723</td>\n",
       "      <td>Shrub</td>\n",
       "      <td>Canada</td>\n",
       "    </tr>\n",
       "    <tr>\n",
       "      <th>2</th>\n",
       "      <td>OTM3</td>\n",
       "      <td>50.849241</td>\n",
       "      <td>-110.051921</td>\n",
       "      <td>Shrub</td>\n",
       "      <td>Canada</td>\n",
       "    </tr>\n",
       "    <tr>\n",
       "      <th>3</th>\n",
       "      <td>OTM4</td>\n",
       "      <td>50.849180</td>\n",
       "      <td>-110.051854</td>\n",
       "      <td>Open</td>\n",
       "      <td>Canada</td>\n",
       "    </tr>\n",
       "    <tr>\n",
       "      <th>4</th>\n",
       "      <td>OTM5</td>\n",
       "      <td>50.849140</td>\n",
       "      <td>-110.051803</td>\n",
       "      <td>Shrub</td>\n",
       "      <td>Canada</td>\n",
       "    </tr>\n",
       "  </tbody>\n",
       "</table>\n",
       "</div>"
      ],
      "text/plain": [
       "  OTM_ID        Lat        Long Microhabitat Study_Site\n",
       "0   OTM1  50.849325 -110.051502         Open     Canada\n",
       "1   OTM2  50.849341 -110.051723        Shrub     Canada\n",
       "2   OTM3  50.849241 -110.051921        Shrub     Canada\n",
       "3   OTM4  50.849180 -110.051854         Open     Canada\n",
       "4   OTM5  50.849140 -110.051803        Shrub     Canada"
      ]
     },
     "execution_count": 23,
     "metadata": {},
     "output_type": "execute_result"
    }
   ],
   "source": [
    "# Canada master sheet\n",
    "can_md = pd.read_excel(base_folder+master_sheets[0])\n",
    "can_md = can_md[[\"OTM ID\", \"Lat \", \"Long\", \"Microhabitat\"]]\n",
    "can_md.columns = ['OTM_ID', 'Lat', 'Long', 'Microhabitat']\n",
    "can_md['Study_Site'] = [get_study_site(master_sheets[0]) for i in range(len(can_md))]\n",
    "meta_data = pd.concat([meta_data, can_md], ignore_index=True)\n",
    "meta_data.head()\n",
    "#can_md.head()"
   ]
  },
  {
   "cell_type": "code",
   "execution_count": 25,
   "metadata": {},
   "outputs": [
    {
     "data": {
      "text/html": [
       "<div>\n",
       "<style scoped>\n",
       "    .dataframe tbody tr th:only-of-type {\n",
       "        vertical-align: middle;\n",
       "    }\n",
       "\n",
       "    .dataframe tbody tr th {\n",
       "        vertical-align: top;\n",
       "    }\n",
       "\n",
       "    .dataframe thead th {\n",
       "        text-align: right;\n",
       "    }\n",
       "</style>\n",
       "<table border=\"1\" class=\"dataframe\">\n",
       "  <thead>\n",
       "    <tr style=\"text-align: right;\">\n",
       "      <th></th>\n",
       "      <th>OTM_ID</th>\n",
       "      <th>Lat</th>\n",
       "      <th>Long</th>\n",
       "      <th>Microhabitat</th>\n",
       "      <th>Study_Site</th>\n",
       "    </tr>\n",
       "  </thead>\n",
       "  <tbody>\n",
       "    <tr>\n",
       "      <th>0</th>\n",
       "      <td>1</td>\n",
       "      <td>42.798423</td>\n",
       "      <td>-100.127813</td>\n",
       "      <td>Open</td>\n",
       "      <td>Nebraska</td>\n",
       "    </tr>\n",
       "    <tr>\n",
       "      <th>1</th>\n",
       "      <td>2</td>\n",
       "      <td>42.798303</td>\n",
       "      <td>-100.128142</td>\n",
       "      <td>Burrow/Half Burrow?</td>\n",
       "      <td>Nebraska</td>\n",
       "    </tr>\n",
       "    <tr>\n",
       "      <th>2</th>\n",
       "      <td>3</td>\n",
       "      <td>42.798403</td>\n",
       "      <td>-100.128113</td>\n",
       "      <td>Half Burrow</td>\n",
       "      <td>Nebraska</td>\n",
       "    </tr>\n",
       "    <tr>\n",
       "      <th>3</th>\n",
       "      <td>4</td>\n",
       "      <td>42.798231</td>\n",
       "      <td>-100.128478</td>\n",
       "      <td>Open</td>\n",
       "      <td>Nebraska</td>\n",
       "    </tr>\n",
       "    <tr>\n",
       "      <th>4</th>\n",
       "      <td>5</td>\n",
       "      <td>42.798156</td>\n",
       "      <td>-100.128762</td>\n",
       "      <td>Burrow/Half Burrow?</td>\n",
       "      <td>Nebraska</td>\n",
       "    </tr>\n",
       "  </tbody>\n",
       "</table>\n",
       "</div>"
      ],
      "text/plain": [
       "  OTM_ID        Lat        Long         Microhabitat Study_Site\n",
       "0      1  42.798423 -100.127813                 Open   Nebraska\n",
       "1      2  42.798303 -100.128142  Burrow/Half Burrow?   Nebraska\n",
       "2      3  42.798403 -100.128113          Half Burrow   Nebraska\n",
       "3      4  42.798231 -100.128478                 Open   Nebraska\n",
       "4      5  42.798156 -100.128762  Burrow/Half Burrow?   Nebraska"
      ]
     },
     "execution_count": 25,
     "metadata": {},
     "output_type": "execute_result"
    }
   ],
   "source": [
    "# Nebraska master sheet\n",
    "neb_md = pd.read_excel(base_folder+master_sheets[1])\n",
    "neb_md = neb_md[[\"OTM Number\", \"Latitude \", \"Longitude\", \"Habitat\"]]\n",
    "neb_md.columns = ['OTM_ID', 'Lat', 'Long', 'Microhabitat']\n",
    "neb_md['Study_Site'] = [get_study_site(master_sheets[1]) for i in range(len(neb_md))]\n",
    "meta_data = pd.concat([meta_data, neb_md], ignore_index=True)\n",
    "neb_md.head()"
   ]
  },
  {
   "cell_type": "code",
   "execution_count": 18,
   "metadata": {},
   "outputs": [
    {
     "data": {
      "text/plain": [
       "array(['OTM9', 'Air Temperature', 'OTM3', 'OTM10', 'OTM1', 'OTM11',\n",
       "       'OTM4', 'OTM7'], dtype=object)"
      ]
     },
     "execution_count": 18,
     "metadata": {},
     "output_type": "execute_result"
    }
   ],
   "source": [
    "otm_main[otm_main['Study_Site']=='Nebraska']['OTM_ID'].unique()"
   ]
  },
  {
   "cell_type": "code",
   "execution_count": 26,
   "metadata": {},
   "outputs": [
    {
     "data": {
      "text/plain": [
       "array([1, 2, 3, 4, 5, 6, 7, 8, 9, 10, 11, 12, 13, 14, 15, 16, 17,\n",
       "       'Air Temperature '], dtype=object)"
      ]
     },
     "execution_count": 26,
     "metadata": {},
     "output_type": "execute_result"
    }
   ],
   "source": [
    "neb_md['OTM_ID'].unique()"
   ]
  },
  {
   "cell_type": "code",
   "execution_count": 27,
   "metadata": {},
   "outputs": [],
   "source": [
    "# Texas Marathon master sheet\n",
    "mar_md = pd.read_excel(base_folder+master_sheets[2])\n",
    "mar_md = mar_md[[\"OTM ID\", \"Lat \", \"Long\", 'Microhabitat']]\n",
    "mar_md.columns = ['OTM_ID', 'Lat', 'Long', 'Microhabitat']\n",
    "mar_md['Study_Site'] = [get_study_site(master_sheets[2]) for i in range(len(mar_md))]\n",
    "meta_data = pd.concat([meta_data, mar_md], ignore_index=True)"
   ]
  },
  {
   "cell_type": "code",
   "execution_count": 25,
   "metadata": {},
   "outputs": [
    {
     "data": {
      "text/html": [
       "<div>\n",
       "<style scoped>\n",
       "    .dataframe tbody tr th:only-of-type {\n",
       "        vertical-align: middle;\n",
       "    }\n",
       "\n",
       "    .dataframe tbody tr th {\n",
       "        vertical-align: top;\n",
       "    }\n",
       "\n",
       "    .dataframe thead th {\n",
       "        text-align: right;\n",
       "    }\n",
       "</style>\n",
       "<table border=\"1\" class=\"dataframe\">\n",
       "  <thead>\n",
       "    <tr style=\"text-align: right;\">\n",
       "      <th></th>\n",
       "      <th>OTM_ID</th>\n",
       "      <th>Lat</th>\n",
       "      <th>Long</th>\n",
       "      <th>Microhabitat</th>\n",
       "      <th>Study_Site</th>\n",
       "    </tr>\n",
       "  </thead>\n",
       "  <tbody>\n",
       "    <tr>\n",
       "      <th>0</th>\n",
       "      <td>OTM1</td>\n",
       "      <td>NaN</td>\n",
       "      <td>NaN</td>\n",
       "      <td>shrub</td>\n",
       "      <td>Texas-Monohans</td>\n",
       "    </tr>\n",
       "    <tr>\n",
       "      <th>1</th>\n",
       "      <td>OTM2</td>\n",
       "      <td>NaN</td>\n",
       "      <td>NaN</td>\n",
       "      <td>open</td>\n",
       "      <td>Texas-Monohans</td>\n",
       "    </tr>\n",
       "    <tr>\n",
       "      <th>2</th>\n",
       "      <td>OTM3</td>\n",
       "      <td>NaN</td>\n",
       "      <td>NaN</td>\n",
       "      <td>open</td>\n",
       "      <td>Texas-Monohans</td>\n",
       "    </tr>\n",
       "    <tr>\n",
       "      <th>3</th>\n",
       "      <td>OTM4</td>\n",
       "      <td>NaN</td>\n",
       "      <td>NaN</td>\n",
       "      <td>shrub</td>\n",
       "      <td>Texas-Monohans</td>\n",
       "    </tr>\n",
       "    <tr>\n",
       "      <th>4</th>\n",
       "      <td>OTM5</td>\n",
       "      <td>NaN</td>\n",
       "      <td>NaN</td>\n",
       "      <td>open</td>\n",
       "      <td>Texas-Monohans</td>\n",
       "    </tr>\n",
       "  </tbody>\n",
       "</table>\n",
       "</div>"
      ],
      "text/plain": [
       "  OTM_ID  Lat  Long Microhabitat      Study_Site\n",
       "0   OTM1  NaN   NaN        shrub  Texas-Monohans\n",
       "1   OTM2  NaN   NaN         open  Texas-Monohans\n",
       "2   OTM3  NaN   NaN         open  Texas-Monohans\n",
       "3   OTM4  NaN   NaN        shrub  Texas-Monohans\n",
       "4   OTM5  NaN   NaN         open  Texas-Monohans"
      ]
     },
     "execution_count": 25,
     "metadata": {},
     "output_type": "execute_result"
    }
   ],
   "source": [
    "# Texas Monohans master sheet\n",
    "mon_md = pd.read_excel(master_sheets[3])\n",
    "mon_md = mon_md[[\"OTM Number\", \"Latitude \", \"Longitude\", \"Habitat\"]]\n",
    "mon_md.columns = ['OTM_ID', 'Lat', 'Long', 'Microhabitat']\n",
    "mon_md['Study_Site'] = [get_study_site(master_sheets[3]) for i in range(len(mon_md))]\n",
    "meta_data = pd.concat([meta_data, mon_md], ignore_index=True)\n",
    "mon_md.head()"
   ]
  },
  {
   "cell_type": "code",
   "execution_count": 12,
   "metadata": {},
   "outputs": [
    {
     "data": {
      "text/html": [
       "<div>\n",
       "<style scoped>\n",
       "    .dataframe tbody tr th:only-of-type {\n",
       "        vertical-align: middle;\n",
       "    }\n",
       "\n",
       "    .dataframe tbody tr th {\n",
       "        vertical-align: top;\n",
       "    }\n",
       "\n",
       "    .dataframe thead th {\n",
       "        text-align: right;\n",
       "    }\n",
       "</style>\n",
       "<table border=\"1\" class=\"dataframe\">\n",
       "  <thead>\n",
       "    <tr style=\"text-align: right;\">\n",
       "      <th></th>\n",
       "      <th>OTM_ID</th>\n",
       "      <th>Lat</th>\n",
       "      <th>Long</th>\n",
       "      <th>Microhabitat</th>\n",
       "      <th>Study_Site</th>\n",
       "    </tr>\n",
       "  </thead>\n",
       "  <tbody>\n",
       "    <tr>\n",
       "      <th>31</th>\n",
       "      <td>OTM1</td>\n",
       "      <td>30.322706</td>\n",
       "      <td>-103.136333</td>\n",
       "      <td>Open</td>\n",
       "      <td>Texas-Marathon</td>\n",
       "    </tr>\n",
       "    <tr>\n",
       "      <th>32</th>\n",
       "      <td>OTM2</td>\n",
       "      <td>30.322286</td>\n",
       "      <td>-103.136194</td>\n",
       "      <td>Bush</td>\n",
       "      <td>Texas-Marathon</td>\n",
       "    </tr>\n",
       "    <tr>\n",
       "      <th>33</th>\n",
       "      <td>OTM3</td>\n",
       "      <td>30.322069</td>\n",
       "      <td>-103.136363</td>\n",
       "      <td>Bush</td>\n",
       "      <td>Texas-Marathon</td>\n",
       "    </tr>\n",
       "    <tr>\n",
       "      <th>34</th>\n",
       "      <td>OTM4</td>\n",
       "      <td>30.321748</td>\n",
       "      <td>-103.136402</td>\n",
       "      <td>Open</td>\n",
       "      <td>Texas-Marathon</td>\n",
       "    </tr>\n",
       "    <tr>\n",
       "      <th>35</th>\n",
       "      <td>OTM5</td>\n",
       "      <td>30.321449</td>\n",
       "      <td>-103.136447</td>\n",
       "      <td>Grass</td>\n",
       "      <td>Texas-Marathon</td>\n",
       "    </tr>\n",
       "  </tbody>\n",
       "</table>\n",
       "</div>"
      ],
      "text/plain": [
       "   OTM_ID        Lat        Long Microhabitat      Study_Site\n",
       "31   OTM1  30.322706 -103.136333         Open  Texas-Marathon\n",
       "32   OTM2  30.322286 -103.136194        Bush   Texas-Marathon\n",
       "33   OTM3  30.322069 -103.136363        Bush   Texas-Marathon\n",
       "34   OTM4  30.321748 -103.136402         Open  Texas-Marathon\n",
       "35   OTM5  30.321449 -103.136447        Grass  Texas-Marathon"
      ]
     },
     "execution_count": 12,
     "metadata": {},
     "output_type": "execute_result"
    }
   ],
   "source": [
    "meta_data[meta_data['Study_Site']=='Texas-Marathon'].head()"
   ]
  },
  {
   "cell_type": "code",
   "execution_count": 32,
   "metadata": {},
   "outputs": [],
   "source": [
    "main_data = otm_main.merge(meta_data, on=['Study_Site', 'OTM_ID'], how='left')"
   ]
  },
  {
   "cell_type": "code",
   "execution_count": 28,
   "metadata": {},
   "outputs": [
    {
     "ename": "NameError",
     "evalue": "name 'main_data' is not defined",
     "output_type": "error",
     "traceback": [
      "\u001b[0;31m---------------------------------------------------------------------------\u001b[0m",
      "\u001b[0;31mNameError\u001b[0m                                 Traceback (most recent call last)",
      "Cell \u001b[0;32mIn[28], line 1\u001b[0m\n\u001b[0;32m----> 1\u001b[0m \u001b[43mmain_data\u001b[49m[(main_data[\u001b[38;5;124m'\u001b[39m\u001b[38;5;124mStudy_Site\u001b[39m\u001b[38;5;124m'\u001b[39m] \u001b[38;5;241m==\u001b[39m \u001b[38;5;124m'\u001b[39m\u001b[38;5;124mTexas-Marathon\u001b[39m\u001b[38;5;124m'\u001b[39m) \u001b[38;5;241m&\u001b[39m (main_data[\u001b[38;5;124m'\u001b[39m\u001b[38;5;124mMicrohabitat\u001b[39m\u001b[38;5;124m'\u001b[39m] \u001b[38;5;241m==\u001b[39m \u001b[38;5;124m'\u001b[39m\u001b[38;5;124mBurrow\u001b[39m\u001b[38;5;124m'\u001b[39m)]\u001b[38;5;241m.\u001b[39mhead()\n",
      "\u001b[0;31mNameError\u001b[0m: name 'main_data' is not defined"
     ]
    }
   ],
   "source": [
    "main_data[(main_data['Study_Site'] == 'Texas-Marathon') & (main_data['Microhabitat'] == 'Burrow')].head()"
   ]
  },
  {
   "cell_type": "code",
   "execution_count": 29,
   "metadata": {},
   "outputs": [
    {
     "data": {
      "text/plain": [
       "404357"
      ]
     },
     "execution_count": 29,
     "metadata": {},
     "output_type": "execute_result"
    }
   ],
   "source": [
    "len(main_data)"
   ]
  },
  {
   "cell_type": "code",
   "execution_count": 43,
   "metadata": {},
   "outputs": [],
   "source": [
    "# Before\n",
    "#main_data.groupby('Study_Site')['Lat'].unique()\n",
    "#main_data['Study_Site'].unique()\n",
    "main_data['Lat'] = main_data.groupby('Study_Site')['Lat'].apply(lambda x: x.fillna(x.mean()))\n",
    "main_data['Long'] = main_data.groupby('Study_Site')['Long'].apply(lambda x: x.fillna(x.mean()))\n",
    "#main_data.groupby('Study_Site')['Lat'].unique()"
   ]
  },
  {
   "cell_type": "code",
   "execution_count": 33,
   "metadata": {},
   "outputs": [
    {
     "data": {
      "text/plain": [
       "array(['Burrow', 'Air', 'Open', 'Half burow', None, 'Shrub'], dtype=object)"
      ]
     },
     "execution_count": 33,
     "metadata": {},
     "output_type": "execute_result"
    }
   ],
   "source": [
    "# if otm_id = air temp in top one\n",
    "def Microhabitat_formatter(microhabitat, otm_ID):\n",
    "    try:\n",
    "        micro = microhabitat.capitalize()\n",
    "        if micro in ['Half Burrow', 'Burrow Entrance', 'Half burrow', 'Half burrow', 'Burrow entrance']:\n",
    "            micro='Burrow'\n",
    "        elif micro in ['Bush', 'Bush ']:\n",
    "            micro='Shrub'\n",
    "        elif micro in ['Grass', 'Hanging from tree', 'Tree']:\n",
    "            micro='Open'\n",
    "    except AttributeError:\n",
    "        if otm_ID=='Air Temperature':\n",
    "            micro='Air'\n",
    "        else:\n",
    "            micro=None\n",
    "    return micro\n",
    "    \n",
    "main_data['Microhabitat'] = [Microhabitat_formatter(microhabitat=row['Microhabitat'],otm_ID = row['OTM_ID'] ) for index, row in main_data.iterrows()]       \n",
    "\n",
    "\n",
    "main_data['Microhabitat'].unique()"
   ]
  },
  {
   "cell_type": "code",
   "execution_count": 7,
   "metadata": {},
   "outputs": [
    {
     "ename": "NameError",
     "evalue": "name 'main_data' is not defined",
     "output_type": "error",
     "traceback": [
      "\u001b[0;31m---------------------------------------------------------------------------\u001b[0m",
      "\u001b[0;31mNameError\u001b[0m                                 Traceback (most recent call last)",
      "\u001b[0;32m<ipython-input-7-de6591c837c0>\u001b[0m in \u001b[0;36m<module>\u001b[0;34m\u001b[0m\n\u001b[1;32m     19\u001b[0m \u001b[0;34m\u001b[0m\u001b[0m\n\u001b[1;32m     20\u001b[0m \u001b[0;34m\u001b[0m\u001b[0m\n\u001b[0;32m---> 21\u001b[0;31m \u001b[0mmain_data\u001b[0m\u001b[0;34m[\u001b[0m\u001b[0;34m'season'\u001b[0m\u001b[0;34m]\u001b[0m \u001b[0;34m=\u001b[0m \u001b[0;34m[\u001b[0m\u001b[0mseason_of_date\u001b[0m\u001b[0;34m(\u001b[0m\u001b[0mrow\u001b[0m\u001b[0;34m[\u001b[0m\u001b[0;34m'Date'\u001b[0m\u001b[0;34m]\u001b[0m\u001b[0;34m)\u001b[0m \u001b[0;32mfor\u001b[0m \u001b[0mindex\u001b[0m\u001b[0;34m,\u001b[0m \u001b[0mrow\u001b[0m \u001b[0;32min\u001b[0m \u001b[0mmain_data\u001b[0m\u001b[0;34m.\u001b[0m\u001b[0miterrows\u001b[0m\u001b[0;34m(\u001b[0m\u001b[0;34m)\u001b[0m\u001b[0;34m]\u001b[0m\u001b[0;34m\u001b[0m\u001b[0;34m\u001b[0m\u001b[0m\n\u001b[0m\u001b[1;32m     22\u001b[0m \u001b[0;31m#airtemp_df['season'] = [season_of_date(row['Date']) for index, row in airtemp_df.iterrows()]\u001b[0m\u001b[0;34m\u001b[0m\u001b[0;34m\u001b[0m\u001b[0;34m\u001b[0m\u001b[0m\n",
      "\u001b[0;31mNameError\u001b[0m: name 'main_data' is not defined"
     ]
    }
   ],
   "source": [
    "def season_of_date(date):\n",
    "    year = str(date.year)\n",
    "\n",
    "    # Extract a string of only the date of the DateTime column, use that in the if statements.\n",
    "    date_only = str(date.date())\n",
    "\n",
    "    # Changed the format of the date_range from DD-MM-YYYY to YYYY-MM-DD.\n",
    "    seasons = {'Spring': pd.date_range(start=year+'/03/21', end=year+'/06/20'),\n",
    "               'Summer': pd.date_range(start=year+'/06/21', end=year+'/09/22'),\n",
    "               'Autumn': pd.date_range(start=year+'/09/23', end=year+'/12/20')}\n",
    "    if date_only in seasons['Spring']:\n",
    "        return 'Spring'\n",
    "    if date_only in seasons['Summer']:\n",
    "        return 'Summer'\n",
    "    if date_only in seasons['Autumn']:\n",
    "        return 'Autumn'\n",
    "    else:\n",
    "        return 'Winter'\n",
    "    \n",
    "    \n",
    "main_data['season'] = [season_of_date(row['Date']) for index, row in main_data.iterrows()]    \n",
    "#airtemp_df['season'] = [season_of_date(row['Date']) for index, row in airtemp_df.iterrows()]\n"
   ]
  },
  {
   "cell_type": "code",
   "execution_count": 34,
   "metadata": {},
   "outputs": [],
   "source": [
    "main_data.to_csv('OTM_Main_Database_02222025.csv')"
   ]
  },
  {
   "cell_type": "code",
   "execution_count": 59,
   "metadata": {},
   "outputs": [],
   "source": [
    "#sns.lineplot(data=main_data, x = \"Date\",y = \"Temperature\", hue = 'Study_Site').set(ylabel = \"Air Temp (C)\")\n",
    "# sns.relplot(\n",
    "#     data=main_data, x = \"Date\",y = \"Temperature\", \n",
    "#     col=\"Study_Site\", style = 'Microhabitat', kind=\"line\"\n",
    "# )"
   ]
  },
  {
   "cell_type": "code",
   "execution_count": 42,
   "metadata": {},
   "outputs": [],
   "source": [
    "#### Snake Data\n",
    "base_folder= '/home/mremington/Documents/therma_sim/therma_sim/Data/Thermal_Ecology_Viridis/Snake_iButton_Data/'\n",
    "sn_data_folders = ['Canada/',\n",
    "                   'Texas/Marathon/Texas_21-22/',\n",
    "                   'Texas/Marathon/Texas_23-24/',\n",
    "                   'Nebraska/'\n",
    "               ]\n",
    "\n",
    "def get_snake_name(csv_file):\n",
    "    partial_name = get_otm(csv_file)\n",
    "    name = partial_name.split('(')[0]\n",
    "    return name"
   ]
  },
  {
   "cell_type": "code",
   "execution_count": 43,
   "metadata": {},
   "outputs": [],
   "source": [
    "snake_main = pd.DataFrame()\n",
    "for folder in sn_data_folders:\n",
    "    csv_files = glob.glob(base_folder + folder + \"*.csv\")\n",
    "    for csv_file in csv_files:\n",
    "        col_names = ['Date', 'Unit', 'Temperature']\n",
    "        temp_df = pd.read_csv(csv_file,names = col_names, skiprows=20, header=None)\n",
    "        temp_df['Date'] = pd.to_datetime(temp_df['Date']) \n",
    "        temp_df['year'] = temp_df['Date'].dt.year\n",
    "        temp_df['month'] = temp_df['Date'].dt.month\n",
    "        temp_df['day'] = temp_df['Date'].dt.day\n",
    "        temp_df['hour'] = temp_df['Date'].dt.hour\n",
    "        temp_df['minute'] = temp_df['Date'].dt.minute\n",
    "        temp_df['Study_Site'] = [get_study_site(folder) for i in range(len(temp_df))]\n",
    "        temp_df['Snake_Name'] = [get_snake_name(csv_file) for i in range(len(temp_df))]\n",
    "        temp_df['file_name'] = [get_csv_file_name(csv_file) for i in range(len(temp_df))]\n",
    "        snake_main = concatenated_df = pd.concat([snake_main, temp_df])"
   ]
  },
  {
   "cell_type": "code",
   "execution_count": 44,
   "metadata": {},
   "outputs": [
    {
     "data": {
      "text/html": [
       "<div>\n",
       "<style scoped>\n",
       "    .dataframe tbody tr th:only-of-type {\n",
       "        vertical-align: middle;\n",
       "    }\n",
       "\n",
       "    .dataframe tbody tr th {\n",
       "        vertical-align: top;\n",
       "    }\n",
       "\n",
       "    .dataframe thead th {\n",
       "        text-align: right;\n",
       "    }\n",
       "</style>\n",
       "<table border=\"1\" class=\"dataframe\">\n",
       "  <thead>\n",
       "    <tr style=\"text-align: right;\">\n",
       "      <th></th>\n",
       "      <th>Date</th>\n",
       "      <th>Unit</th>\n",
       "      <th>Temperature</th>\n",
       "      <th>year</th>\n",
       "      <th>month</th>\n",
       "      <th>day</th>\n",
       "      <th>hour</th>\n",
       "      <th>minute</th>\n",
       "      <th>Study_Site</th>\n",
       "      <th>Snake_Name</th>\n",
       "      <th>file_name</th>\n",
       "    </tr>\n",
       "  </thead>\n",
       "  <tbody>\n",
       "    <tr>\n",
       "      <th>0</th>\n",
       "      <td>2022-06-17 23:00:01</td>\n",
       "      <td>C</td>\n",
       "      <td>21.071</td>\n",
       "      <td>2022</td>\n",
       "      <td>6</td>\n",
       "      <td>17</td>\n",
       "      <td>23</td>\n",
       "      <td>0</td>\n",
       "      <td>Canada</td>\n",
       "      <td>Moose</td>\n",
       "      <td>Moose(EDCRVI006)2022_2023.csv</td>\n",
       "    </tr>\n",
       "    <tr>\n",
       "      <th>1</th>\n",
       "      <td>2022-06-18 00:10:01</td>\n",
       "      <td>C</td>\n",
       "      <td>21.071</td>\n",
       "      <td>2022</td>\n",
       "      <td>6</td>\n",
       "      <td>18</td>\n",
       "      <td>0</td>\n",
       "      <td>10</td>\n",
       "      <td>Canada</td>\n",
       "      <td>Moose</td>\n",
       "      <td>Moose(EDCRVI006)2022_2023.csv</td>\n",
       "    </tr>\n",
       "    <tr>\n",
       "      <th>2</th>\n",
       "      <td>2022-06-18 01:20:01</td>\n",
       "      <td>C</td>\n",
       "      <td>20.571</td>\n",
       "      <td>2022</td>\n",
       "      <td>6</td>\n",
       "      <td>18</td>\n",
       "      <td>1</td>\n",
       "      <td>20</td>\n",
       "      <td>Canada</td>\n",
       "      <td>Moose</td>\n",
       "      <td>Moose(EDCRVI006)2022_2023.csv</td>\n",
       "    </tr>\n",
       "    <tr>\n",
       "      <th>3</th>\n",
       "      <td>2022-06-18 02:30:01</td>\n",
       "      <td>C</td>\n",
       "      <td>20.571</td>\n",
       "      <td>2022</td>\n",
       "      <td>6</td>\n",
       "      <td>18</td>\n",
       "      <td>2</td>\n",
       "      <td>30</td>\n",
       "      <td>Canada</td>\n",
       "      <td>Moose</td>\n",
       "      <td>Moose(EDCRVI006)2022_2023.csv</td>\n",
       "    </tr>\n",
       "    <tr>\n",
       "      <th>4</th>\n",
       "      <td>2022-06-18 03:40:01</td>\n",
       "      <td>C</td>\n",
       "      <td>20.571</td>\n",
       "      <td>2022</td>\n",
       "      <td>6</td>\n",
       "      <td>18</td>\n",
       "      <td>3</td>\n",
       "      <td>40</td>\n",
       "      <td>Canada</td>\n",
       "      <td>Moose</td>\n",
       "      <td>Moose(EDCRVI006)2022_2023.csv</td>\n",
       "    </tr>\n",
       "  </tbody>\n",
       "</table>\n",
       "</div>"
      ],
      "text/plain": [
       "                 Date Unit  Temperature  year  month  day  hour  minute  \\\n",
       "0 2022-06-17 23:00:01    C       21.071  2022      6   17    23       0   \n",
       "1 2022-06-18 00:10:01    C       21.071  2022      6   18     0      10   \n",
       "2 2022-06-18 01:20:01    C       20.571  2022      6   18     1      20   \n",
       "3 2022-06-18 02:30:01    C       20.571  2022      6   18     2      30   \n",
       "4 2022-06-18 03:40:01    C       20.571  2022      6   18     3      40   \n",
       "\n",
       "  Study_Site Snake_Name                      file_name  \n",
       "0     Canada      Moose  Moose(EDCRVI006)2022_2023.csv  \n",
       "1     Canada      Moose  Moose(EDCRVI006)2022_2023.csv  \n",
       "2     Canada      Moose  Moose(EDCRVI006)2022_2023.csv  \n",
       "3     Canada      Moose  Moose(EDCRVI006)2022_2023.csv  \n",
       "4     Canada      Moose  Moose(EDCRVI006)2022_2023.csv  "
      ]
     },
     "execution_count": 44,
     "metadata": {},
     "output_type": "execute_result"
    }
   ],
   "source": [
    "snake_main.head()"
   ]
  },
  {
   "cell_type": "code",
   "execution_count": 45,
   "metadata": {},
   "outputs": [
    {
     "name": "stdout",
     "output_type": "stream",
     "text": [
      "  Study_Site Snake_Name\n",
      "0     Canada      Moose\n",
      "0     Canada      Olive\n",
      "0     Canada     Hector\n",
      "0     Canada    Chinook\n",
      "0     Canada     Albert\n",
      "0     Canada   Manitoba\n",
      "0     Canada     Hunter\n",
      "0     Canada    Kokanee\n",
      "0     Canada     Cooper\n",
      "0     Canada     Victor\n",
      "0     Canada     Paloma\n",
      "0     Canada      Eddie\n",
      "0     Canada       Chad\n",
      "0      Texas      Janis\n",
      "0      Texas   Cladwell\n",
      "0      Texas       Cher\n",
      "0      Texas      Nando\n",
      "0      Texas      Dusty\n",
      "0      Texas    Cecilia\n",
      "0      Texas     Bonnie\n",
      "0      Texas    Tornado\n",
      "0      Texas     Caezar\n",
      "0      Texas      Ringo\n",
      "0      Texas    Brisket\n",
      "0      Texas     Merlin\n",
      "0      Texas   Deadwood\n",
      "0      Texas     Willow\n",
      "0      Texas     Sedona\n",
      "0      Texas       Mort\n",
      "0      Texas      Bryan\n",
      "0      Texas      Hazel\n",
      "0   Nebraska      Bjorn\n",
      "0   Nebraska     Horace\n",
      "0   Nebraska     Ragnar\n"
     ]
    }
   ],
   "source": [
    "unique_combinations = snake_main[['Study_Site', 'Snake_Name']].drop_duplicates()\n",
    "print(unique_combinations)"
   ]
  },
  {
   "cell_type": "code",
   "execution_count": 18,
   "metadata": {},
   "outputs": [
    {
     "data": {
      "text/plain": [
       "array(['Canada', 'Texas-Marathon', 'Nebraska'], dtype=object)"
      ]
     },
     "execution_count": 18,
     "metadata": {},
     "output_type": "execute_result"
    }
   ],
   "source": [
    "len(snake_main)\n",
    "snake_main['Study_Site'].unique()"
   ]
  },
  {
   "cell_type": "code",
   "execution_count": null,
   "metadata": {},
   "outputs": [],
   "source": []
  },
  {
   "cell_type": "code",
   "execution_count": 6,
   "metadata": {},
   "outputs": [
    {
     "ename": "NameError",
     "evalue": "name 'season_of_date' is not defined",
     "output_type": "error",
     "traceback": [
      "\u001b[0;31m---------------------------------------------------------------------------\u001b[0m",
      "\u001b[0;31mNameError\u001b[0m                                 Traceback (most recent call last)",
      "\u001b[0;32m<ipython-input-6-f2f744949a02>\u001b[0m in \u001b[0;36m<module>\u001b[0;34m\u001b[0m\n\u001b[0;32m----> 1\u001b[0;31m \u001b[0msnake_main\u001b[0m\u001b[0;34m[\u001b[0m\u001b[0;34m'season'\u001b[0m\u001b[0;34m]\u001b[0m \u001b[0;34m=\u001b[0m \u001b[0;34m[\u001b[0m\u001b[0mseason_of_date\u001b[0m\u001b[0;34m(\u001b[0m\u001b[0mrow\u001b[0m\u001b[0;34m[\u001b[0m\u001b[0;34m'Date'\u001b[0m\u001b[0;34m]\u001b[0m\u001b[0;34m)\u001b[0m \u001b[0;32mfor\u001b[0m \u001b[0mindex\u001b[0m\u001b[0;34m,\u001b[0m \u001b[0mrow\u001b[0m \u001b[0;32min\u001b[0m \u001b[0msnake_main\u001b[0m\u001b[0;34m.\u001b[0m\u001b[0miterrows\u001b[0m\u001b[0;34m(\u001b[0m\u001b[0;34m)\u001b[0m\u001b[0;34m]\u001b[0m\u001b[0;34m\u001b[0m\u001b[0;34m\u001b[0m\u001b[0m\n\u001b[0m",
      "\u001b[0;32m<ipython-input-6-f2f744949a02>\u001b[0m in \u001b[0;36m<listcomp>\u001b[0;34m(.0)\u001b[0m\n\u001b[0;32m----> 1\u001b[0;31m \u001b[0msnake_main\u001b[0m\u001b[0;34m[\u001b[0m\u001b[0;34m'season'\u001b[0m\u001b[0;34m]\u001b[0m \u001b[0;34m=\u001b[0m \u001b[0;34m[\u001b[0m\u001b[0mseason_of_date\u001b[0m\u001b[0;34m(\u001b[0m\u001b[0mrow\u001b[0m\u001b[0;34m[\u001b[0m\u001b[0;34m'Date'\u001b[0m\u001b[0;34m]\u001b[0m\u001b[0;34m)\u001b[0m \u001b[0;32mfor\u001b[0m \u001b[0mindex\u001b[0m\u001b[0;34m,\u001b[0m \u001b[0mrow\u001b[0m \u001b[0;32min\u001b[0m \u001b[0msnake_main\u001b[0m\u001b[0;34m.\u001b[0m\u001b[0miterrows\u001b[0m\u001b[0;34m(\u001b[0m\u001b[0;34m)\u001b[0m\u001b[0;34m]\u001b[0m\u001b[0;34m\u001b[0m\u001b[0;34m\u001b[0m\u001b[0m\n\u001b[0m",
      "\u001b[0;31mNameError\u001b[0m: name 'season_of_date' is not defined"
     ]
    }
   ],
   "source": [
    "snake_main['season'] = [season_of_date(row['Date']) for index, row in snake_main.iterrows()]  "
   ]
  },
  {
   "cell_type": "code",
   "execution_count": 46,
   "metadata": {},
   "outputs": [],
   "source": [
    "snake_main.to_csv('Data/snake_thermal_database_02222025.csv')"
   ]
  },
  {
   "cell_type": "code",
   "execution_count": null,
   "metadata": {},
   "outputs": [],
   "source": []
  }
 ],
 "metadata": {
  "kernelspec": {
   "display_name": "therma_sim",
   "language": "python",
   "name": "python3"
  },
  "language_info": {
   "codemirror_mode": {
    "name": "ipython",
    "version": 3
   },
   "file_extension": ".py",
   "mimetype": "text/x-python",
   "name": "python",
   "nbconvert_exporter": "python",
   "pygments_lexer": "ipython3",
   "version": "3.11.5"
  }
 },
 "nbformat": 4,
 "nbformat_minor": 4
}
