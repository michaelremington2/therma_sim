{
 "cells": [
  {
   "cell_type": "code",
   "execution_count": 1,
   "metadata": {},
   "outputs": [
    {
     "data": {
      "application/vnd.jupyter.widget-view+json": {
       "model_id": "b662d5e7ec3f496bb27c15765368dfd9",
       "version_major": 2,
       "version_minor": 0
      },
      "text/plain": [
       "HBox(children=(VBox(children=(FloatSlider(value=1.0, description='R_ref', max=10.0, min=0.1), FloatSlider(valu…"
      ]
     },
     "metadata": {},
     "output_type": "display_data"
    },
    {
     "data": {
      "application/vnd.jupyter.widget-view+json": {
       "model_id": "e5a32a906cdc4675a56a8cebcd92d2e9",
       "version_major": 2,
       "version_minor": 0
      },
      "text/plain": [
       "interactive(children=(FloatSlider(value=1.0, description='R_ref', max=10.0, min=0.1), FloatSlider(value=0.65, …"
      ]
     },
     "metadata": {},
     "output_type": "display_data"
    }
   ],
   "source": [
    "import numpy as np\n",
    "import matplotlib.pyplot as plt\n",
    "from ipywidgets import interact, FloatSlider, HBox, VBox\n",
    "from IPython.display import display\n",
    "\n",
    "# Updated Sharpe-Schoolfield equation-based thermal performance curve\n",
    "def sharpe_schoolfield(T, R_ref, E_A, E_L, T_L, E_H, T_H, T_ref):\n",
    "    k = 8.617e-5  # Boltzmann constant in eV/K\n",
    "    T_K = T + 273.15  # Convert Celsius to Kelvin\n",
    "    T_ref_K = T_ref + 273.15\n",
    "    T_L_K = T_L + 273.15\n",
    "    T_H_K = T_H + 273.15\n",
    "    \n",
    "    return (R_ref * np.exp((E_A / k) * (1 / T_ref_K - 1 / T_K))) / \\\n",
    "           (1 + np.exp((E_L / k) * (1 / T_L_K - 1 / T_K)) + np.exp((E_H / k) * (1 / T_H_K - 1 / T_K)))\n",
    "\n",
    "# Gaussian-based thermal performance curve\n",
    "def gaussian_tpc(T, P_max, T_opt, w):\n",
    "    return P_max * np.exp(-((T - T_opt) / w) ** 2)\n",
    "\n",
    "# Quadratic thermal performance curve\n",
    "def quadratic_tpc(T, a, T_opt, P_max):\n",
    "    return a * (T - T_opt) ** 2 + P_max\n",
    "\n",
    "# Plotting function\n",
    "def plot_tpc(R_ref, E_A, E_L, T_L, E_H, T_H, T_ref, P_max, T_opt, w, a):\n",
    "    T = np.linspace(0, 50, 500)\n",
    "    \n",
    "    # Calculate the curves\n",
    "    sharpe_schoolfield_curve = sharpe_schoolfield(T, R_ref, E_A, E_L, T_L, E_H, T_H, T_ref)\n",
    "    gaussian_curve = gaussian_tpc(T, P_max, T_opt, w)\n",
    "    quadratic_curve = quadratic_tpc(T, a, T_opt, P_max)\n",
    "    \n",
    "    # Plotting\n",
    "    plt.figure(figsize=(10, 6))\n",
    "    \n",
    "    plt.plot(T, sharpe_schoolfield_curve, label=\"Sharpe-Schoolfield\")\n",
    "    plt.plot(T, gaussian_curve, label=\"Gaussian\")\n",
    "    plt.plot(T, quadratic_curve, label=\"Quadratic\", linestyle='--')\n",
    "    \n",
    "    plt.xlabel('Temperature (°C)')\n",
    "    plt.ylabel('Performance')\n",
    "    plt.title('Thermal Performance Curves')\n",
    "    plt.legend()\n",
    "    plt.ylim(0, 1.5 * max(R_ref, P_max))\n",
    "    plt.grid(True)\n",
    "    plt.show()\n",
    "\n",
    "# Create sliders\n",
    "R_ref_slider = FloatSlider(min=0.1, max=1., step=0.1, value=0.3, description='R_ref')\n",
    "E_A_slider = FloatSlider(min=0.1, max=2.0, step=0.1, value=0.65, description='E_A')\n",
    "E_L_slider = FloatSlider(min=-10, max=10, step=0.1, value=-5, description='E_L')\n",
    "T_L_slider = FloatSlider(min=0.0, max=20.0, step=0.5, value=15, description='T_L (°C)')\n",
    "E_H_slider = FloatSlider(min=0.1, max=10.0, step=0.1, value=5, description='E_H')\n",
    "T_H_slider = FloatSlider(min=20.0, max=60.0, step=0.5, value=40.0, description='T_H (°C)')\n",
    "T_ref_slider = FloatSlider(min=0.0, max=50.0, step=0.5, value=25.0, description='T_ref (°C)')\n",
    "P_max_slider = FloatSlider(min=0.1, max=10.0, step=0.1, value=0.3, description='P_max (Gaussian)')\n",
    "T_opt_slider = FloatSlider(min=10.0, max=40.0, step=1.0, value=28, description='T_opt (Gaussian)')\n",
    "w_slider = FloatSlider(min=1.0, max=20.0, step=1.0, value=5.0, description='w (Gaussian)')\n",
    "a_slider = FloatSlider(min=-0.05, max=-0.001, step=0.001, value=-0.01, description='a (Quadratic)')\n",
    "\n",
    "# Organize sliders in a vertical box\n",
    "sliders = VBox([R_ref_slider, E_A_slider, E_L_slider, T_L_slider, E_H_slider, T_H_slider, T_ref_slider,\n",
    "                P_max_slider, T_opt_slider, w_slider, a_slider])\n",
    "\n",
    "# Create an interactive plot linked to the sliders\n",
    "def interactive_plot():\n",
    "    interact(plot_tpc, \n",
    "             R_ref=R_ref_slider, E_A=E_A_slider, E_L=E_L_slider, \n",
    "             T_L=T_L_slider, E_H=E_H_slider, T_H=T_H_slider, T_ref=T_ref_slider,\n",
    "             P_max=P_max_slider, T_opt=T_opt_slider, w=w_slider, a=a_slider)\n",
    "\n",
    "# Display plot and sliders side by side\n",
    "ui = HBox([sliders])\n",
    "display(ui)\n",
    "interactive_plot()\n"
   ]
  }
 ],
 "metadata": {
  "kernelspec": {
   "display_name": "therma_sim",
   "language": "python",
   "name": "python3"
  },
  "language_info": {
   "codemirror_mode": {
    "name": "ipython",
    "version": 3
   },
   "file_extension": ".py",
   "mimetype": "text/x-python",
   "name": "python",
   "nbconvert_exporter": "python",
   "pygments_lexer": "ipython3",
   "version": "3.11.5"
  }
 },
 "nbformat": 4,
 "nbformat_minor": 2
}
